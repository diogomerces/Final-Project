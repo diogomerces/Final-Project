{
 "cells": [
  {
   "cell_type": "code",
   "execution_count": 1,
   "metadata": {},
   "outputs": [],
   "source": [
    "import tweepy as tw\n",
    "import pandas as pd\n",
    "import re\n",
    "import json\n",
    "import GetOldTweets3 as got\n",
    "import time\n"
   ]
  },
  {
   "cell_type": "code",
   "execution_count": 2,
   "metadata": {},
   "outputs": [],
   "source": [
    "#Read my verification\n",
    "with open('twitter-tokens.txt', 'r') as tfile:\n",
    "    consumer_key = tfile.readline().strip('\\n')\n",
    "    consumer_secret = tfile.readline().strip('\\n')\n",
    "    acess_token = tfile.readline().strip('\\n')\n",
    "    acess_token_secret = tfile.readline().strip('\\n')"
   ]
  },
  {
   "cell_type": "code",
   "execution_count": 3,
   "metadata": {},
   "outputs": [],
   "source": [
    "#check my verification\n",
    "auth = tw.OAuthHandler(consumer_key, consumer_secret)\n",
    "auth.set_access_token(acess_token, acess_token_secret)\n",
    "\n",
    "api = tw.API(auth)"
   ]
  },
  {
   "cell_type": "code",
   "execution_count": 4,
   "metadata": {},
   "outputs": [],
   "source": [
    "#name of user\n",
    "screen_name = 'DeusAcimDtodos'"
   ]
  },
  {
   "cell_type": "code",
   "execution_count": 5,
   "metadata": {
    "scrolled": true
   },
   "outputs": [
    {
     "name": "stdout",
     "output_type": "stream",
     "text": [
      "AtalaiaBR\n"
     ]
    },
    {
     "name": "stderr",
     "output_type": "stream",
     "text": [
      "C:\\Users\\Diogo\\anaconda3\\lib\\site-packages\\pandas\\core\\frame.py:3990: SettingWithCopyWarning: \n",
      "A value is trying to be set on a copy of a slice from a DataFrame\n",
      "\n",
      "See the caveats in the documentation: https://pandas.pydata.org/pandas-docs/stable/user_guide/indexing.html#returning-a-view-versus-a-copy\n",
      "  return super().drop(\n",
      "C:\\Users\\Diogo\\anaconda3\\lib\\site-packages\\sklearn\\utils\\validation.py:508: UserWarning: pandas.DataFrame with sparse columns found.It will be converted to a dense numpy array.\n",
      "  warnings.warn(\n"
     ]
    },
    {
     "name": "stdout",
     "output_type": "stream",
     "text": [
      "BrazilFight\n"
     ]
    },
    {
     "name": "stderr",
     "output_type": "stream",
     "text": [
      "C:\\Users\\Diogo\\anaconda3\\lib\\site-packages\\pandas\\core\\frame.py:3990: SettingWithCopyWarning: \n",
      "A value is trying to be set on a copy of a slice from a DataFrame\n",
      "\n",
      "See the caveats in the documentation: https://pandas.pydata.org/pandas-docs/stable/user_guide/indexing.html#returning-a-view-versus-a-copy\n",
      "  return super().drop(\n",
      "C:\\Users\\Diogo\\anaconda3\\lib\\site-packages\\sklearn\\utils\\validation.py:508: UserWarning: pandas.DataFrame with sparse columns found.It will be converted to a dense numpy array.\n",
      "  warnings.warn(\n"
     ]
    },
    {
     "name": "stdout",
     "output_type": "stream",
     "text": [
      "DaniWineBrasil\n"
     ]
    },
    {
     "name": "stderr",
     "output_type": "stream",
     "text": [
      "C:\\Users\\Diogo\\anaconda3\\lib\\site-packages\\pandas\\core\\frame.py:3990: SettingWithCopyWarning: \n",
      "A value is trying to be set on a copy of a slice from a DataFrame\n",
      "\n",
      "See the caveats in the documentation: https://pandas.pydata.org/pandas-docs/stable/user_guide/indexing.html#returning-a-view-versus-a-copy\n",
      "  return super().drop(\n",
      "C:\\Users\\Diogo\\anaconda3\\lib\\site-packages\\sklearn\\utils\\validation.py:508: UserWarning: pandas.DataFrame with sparse columns found.It will be converted to a dense numpy array.\n",
      "  warnings.warn(\n"
     ]
    },
    {
     "name": "stdout",
     "output_type": "stream",
     "text": [
      "DeusAcimDtodos\n"
     ]
    },
    {
     "name": "stderr",
     "output_type": "stream",
     "text": [
      "C:\\Users\\Diogo\\anaconda3\\lib\\site-packages\\pandas\\core\\frame.py:3990: SettingWithCopyWarning: \n",
      "A value is trying to be set on a copy of a slice from a DataFrame\n",
      "\n",
      "See the caveats in the documentation: https://pandas.pydata.org/pandas-docs/stable/user_guide/indexing.html#returning-a-view-versus-a-copy\n",
      "  return super().drop(\n",
      "C:\\Users\\Diogo\\anaconda3\\lib\\site-packages\\sklearn\\utils\\validation.py:508: UserWarning: pandas.DataFrame with sparse columns found.It will be converted to a dense numpy array.\n",
      "  warnings.warn(\n"
     ]
    },
    {
     "name": "stdout",
     "output_type": "stream",
     "text": [
      "HalpherLuiggi\n"
     ]
    },
    {
     "name": "stderr",
     "output_type": "stream",
     "text": [
      "C:\\Users\\Diogo\\anaconda3\\lib\\site-packages\\pandas\\core\\frame.py:3990: SettingWithCopyWarning: \n",
      "A value is trying to be set on a copy of a slice from a DataFrame\n",
      "\n",
      "See the caveats in the documentation: https://pandas.pydata.org/pandas-docs/stable/user_guide/indexing.html#returning-a-view-versus-a-copy\n",
      "  return super().drop(\n",
      "C:\\Users\\Diogo\\anaconda3\\lib\\site-packages\\sklearn\\utils\\validation.py:508: UserWarning: pandas.DataFrame with sparse columns found.It will be converted to a dense numpy array.\n",
      "  warnings.warn(\n"
     ]
    },
    {
     "name": "stdout",
     "output_type": "stream",
     "text": [
      "bolsonaro22_38\n"
     ]
    },
    {
     "name": "stderr",
     "output_type": "stream",
     "text": [
      "C:\\Users\\Diogo\\anaconda3\\lib\\site-packages\\pandas\\core\\frame.py:3990: SettingWithCopyWarning: \n",
      "A value is trying to be set on a copy of a slice from a DataFrame\n",
      "\n",
      "See the caveats in the documentation: https://pandas.pydata.org/pandas-docs/stable/user_guide/indexing.html#returning-a-view-versus-a-copy\n",
      "  return super().drop(\n",
      "C:\\Users\\Diogo\\anaconda3\\lib\\site-packages\\sklearn\\utils\\validation.py:508: UserWarning: pandas.DataFrame with sparse columns found.It will be converted to a dense numpy array.\n",
      "  warnings.warn(\n"
     ]
    },
    {
     "name": "stdout",
     "output_type": "stream",
     "text": [
      "depatriota12\n"
     ]
    },
    {
     "name": "stderr",
     "output_type": "stream",
     "text": [
      "C:\\Users\\Diogo\\anaconda3\\lib\\site-packages\\pandas\\core\\frame.py:3990: SettingWithCopyWarning: \n",
      "A value is trying to be set on a copy of a slice from a DataFrame\n",
      "\n",
      "See the caveats in the documentation: https://pandas.pydata.org/pandas-docs/stable/user_guide/indexing.html#returning-a-view-versus-a-copy\n",
      "  return super().drop(\n",
      "C:\\Users\\Diogo\\anaconda3\\lib\\site-packages\\sklearn\\utils\\validation.py:508: UserWarning: pandas.DataFrame with sparse columns found.It will be converted to a dense numpy array.\n",
      "  warnings.warn(\n"
     ]
    },
    {
     "name": "stdout",
     "output_type": "stream",
     "text": [
      "pittaopacheco\n"
     ]
    },
    {
     "name": "stderr",
     "output_type": "stream",
     "text": [
      "C:\\Users\\Diogo\\anaconda3\\lib\\site-packages\\pandas\\core\\frame.py:3990: SettingWithCopyWarning: \n",
      "A value is trying to be set on a copy of a slice from a DataFrame\n",
      "\n",
      "See the caveats in the documentation: https://pandas.pydata.org/pandas-docs/stable/user_guide/indexing.html#returning-a-view-versus-a-copy\n",
      "  return super().drop(\n",
      "C:\\Users\\Diogo\\anaconda3\\lib\\site-packages\\sklearn\\utils\\validation.py:508: UserWarning: pandas.DataFrame with sparse columns found.It will be converted to a dense numpy array.\n",
      "  warnings.warn(\n"
     ]
    },
    {
     "name": "stdout",
     "output_type": "stream",
     "text": [
      "rduartedelima\n"
     ]
    },
    {
     "name": "stderr",
     "output_type": "stream",
     "text": [
      "C:\\Users\\Diogo\\anaconda3\\lib\\site-packages\\pandas\\core\\frame.py:3990: SettingWithCopyWarning: \n",
      "A value is trying to be set on a copy of a slice from a DataFrame\n",
      "\n",
      "See the caveats in the documentation: https://pandas.pydata.org/pandas-docs/stable/user_guide/indexing.html#returning-a-view-versus-a-copy\n",
      "  return super().drop(\n",
      "C:\\Users\\Diogo\\anaconda3\\lib\\site-packages\\sklearn\\utils\\validation.py:508: UserWarning: pandas.DataFrame with sparse columns found.It will be converted to a dense numpy array.\n",
      "  warnings.warn(\n"
     ]
    }
   ],
   "source": [
    "# code refactoring \n",
    "import pickle\n",
    "with open('vectorizer_model.pkl', 'rb') as f:\n",
    "    vectorizer = pickle.load(f)\n",
    "    \n",
    "import pickle\n",
    "with open('forest_model.pkl', 'rb') as f:\n",
    "    forest = pickle.load(f)\n",
    "\n",
    "############################################################################################################################\n",
    "\n",
    "def run_model_on_df(df, forest):\n",
    "    \n",
    "    return forest.predict(df)\n",
    "    \n",
    "############################################################################################################################\n",
    "\n",
    "\n",
    "\n",
    "list_user_friends = []\n",
    "def get_friends(x):\n",
    "    \n",
    "    for friends in tw.Cursor(api.friends, screen_name).items(10):\n",
    "        list_user_friends.append(friends.screen_name)\n",
    "        time.sleep(1)\n",
    "        \n",
    "# this gives us the list of top 9 friends\n",
    "get_friends(screen_name)\n",
    "list_user_friends.append(screen_name)\n",
    "\n",
    "#Get the tweets in getoldtweets\n",
    "tweetCriteria = got.manager.TweetCriteria().setUsername(list_user_friends)\\\n",
    "                                           .setMaxTweets(100*len(list_user_friends))\n",
    "tweets = list(got.manager.TweetManager.getTweets(tweetCriteria))\n",
    "\n",
    "tweets_old = []\n",
    "for i in tweets:\n",
    "    tweets_old.append(i)\n",
    "\n",
    "tweets_list2 = [(tweet.id, tweet.username,tweet.date,tweet.retweets, tweet.text ) for tweet in tweets_old]\n",
    "\n",
    "tweets_list2 = pd.DataFrame(tweets_list2,columns=['Tweet Id','username','Datetime','Retweets', 'Text'])\n",
    "\n",
    "#cleaning and count frequency of tweets per day\n",
    "tweets_list2['Date']= tweets_list2['Datetime'].dt.strftime('%Y-%m-%d')\n",
    "tweets_list2.drop(['Datetime'], axis=1 , inplace= True)\n",
    "frequency = pd.DataFrame(tweets_list2.groupby(['username','Date'])['Tweet Id'].count())\n",
    "tweets_list2 = pd.merge(tweets_list2, frequency, on=['username', 'Date'])\n",
    "\n",
    "users_prediction = {}\n",
    "\n",
    "for user, df in tweets_list2.groupby('username'):\n",
    "    print(user)\n",
    "    df.drop([ 'Tweet Id_x','username','Date'], axis=1 , inplace= True) \n",
    "\n",
    "    first = pd.DataFrame.sparse.from_spmatrix(vectorizer.transform(df['Text'])).reset_index(drop = True)\n",
    "    df = df.reset_index(drop = True)\n",
    "    result = first.merge(df, left_index=True, right_index=True)\n",
    "    result = result.drop(['Text'], axis = 1)\n",
    "\n",
    "    predictions = run_model_on_df(result[:100], forest)\n",
    "\n",
    "    \n",
    "    if list(predictions).count(\"Sim\") >= 1:\n",
    "        users_prediction[user] = \"BOT\"\n",
    "    else:\n",
    "        users_prediction[user] = \"NOT BOT\"\n"
   ]
  },
  {
   "cell_type": "code",
   "execution_count": 6,
   "metadata": {},
   "outputs": [],
   "source": [
    "main_list = []\n",
    "for user in users_prediction.keys():\n",
    "    main_list.append([screen_name, user, users_prediction[user]])"
   ]
  },
  {
   "cell_type": "code",
   "execution_count": 7,
   "metadata": {},
   "outputs": [
    {
     "data": {
      "text/html": [
       "<div>\n",
       "<style scoped>\n",
       "    .dataframe tbody tr th:only-of-type {\n",
       "        vertical-align: middle;\n",
       "    }\n",
       "\n",
       "    .dataframe tbody tr th {\n",
       "        vertical-align: top;\n",
       "    }\n",
       "\n",
       "    .dataframe thead th {\n",
       "        text-align: right;\n",
       "    }\n",
       "</style>\n",
       "<table border=\"1\" class=\"dataframe\">\n",
       "  <thead>\n",
       "    <tr style=\"text-align: right;\">\n",
       "      <th></th>\n",
       "      <th>screen_name</th>\n",
       "      <th>friends</th>\n",
       "      <th>botornot</th>\n",
       "    </tr>\n",
       "  </thead>\n",
       "  <tbody>\n",
       "    <tr>\n",
       "      <th>0</th>\n",
       "      <td>DeusAcimDtodos</td>\n",
       "      <td>AtalaiaBR</td>\n",
       "      <td>BOT</td>\n",
       "    </tr>\n",
       "    <tr>\n",
       "      <th>1</th>\n",
       "      <td>DeusAcimDtodos</td>\n",
       "      <td>BrazilFight</td>\n",
       "      <td>NOT BOT</td>\n",
       "    </tr>\n",
       "    <tr>\n",
       "      <th>2</th>\n",
       "      <td>DeusAcimDtodos</td>\n",
       "      <td>DaniWineBrasil</td>\n",
       "      <td>BOT</td>\n",
       "    </tr>\n",
       "    <tr>\n",
       "      <th>3</th>\n",
       "      <td>DeusAcimDtodos</td>\n",
       "      <td>DeusAcimDtodos</td>\n",
       "      <td>BOT</td>\n",
       "    </tr>\n",
       "    <tr>\n",
       "      <th>4</th>\n",
       "      <td>DeusAcimDtodos</td>\n",
       "      <td>HalpherLuiggi</td>\n",
       "      <td>NOT BOT</td>\n",
       "    </tr>\n",
       "    <tr>\n",
       "      <th>5</th>\n",
       "      <td>DeusAcimDtodos</td>\n",
       "      <td>bolsonaro22_38</td>\n",
       "      <td>BOT</td>\n",
       "    </tr>\n",
       "    <tr>\n",
       "      <th>6</th>\n",
       "      <td>DeusAcimDtodos</td>\n",
       "      <td>depatriota12</td>\n",
       "      <td>NOT BOT</td>\n",
       "    </tr>\n",
       "    <tr>\n",
       "      <th>7</th>\n",
       "      <td>DeusAcimDtodos</td>\n",
       "      <td>pittaopacheco</td>\n",
       "      <td>NOT BOT</td>\n",
       "    </tr>\n",
       "    <tr>\n",
       "      <th>8</th>\n",
       "      <td>DeusAcimDtodos</td>\n",
       "      <td>rduartedelima</td>\n",
       "      <td>BOT</td>\n",
       "    </tr>\n",
       "  </tbody>\n",
       "</table>\n",
       "</div>"
      ],
      "text/plain": [
       "      screen_name         friends botornot\n",
       "0  DeusAcimDtodos       AtalaiaBR      BOT\n",
       "1  DeusAcimDtodos     BrazilFight  NOT BOT\n",
       "2  DeusAcimDtodos  DaniWineBrasil      BOT\n",
       "3  DeusAcimDtodos  DeusAcimDtodos      BOT\n",
       "4  DeusAcimDtodos   HalpherLuiggi  NOT BOT\n",
       "5  DeusAcimDtodos  bolsonaro22_38      BOT\n",
       "6  DeusAcimDtodos    depatriota12  NOT BOT\n",
       "7  DeusAcimDtodos   pittaopacheco  NOT BOT\n",
       "8  DeusAcimDtodos   rduartedelima      BOT"
      ]
     },
     "execution_count": 7,
     "metadata": {},
     "output_type": "execute_result"
    }
   ],
   "source": [
    "final = pd.DataFrame(main_list, columns = ['screen_name','friends','botornot'])\n",
    "final"
   ]
  },
  {
   "cell_type": "code",
   "execution_count": 8,
   "metadata": {},
   "outputs": [
    {
     "data": {
      "image/png": "[encoded data removed]",
      "text/plain": [
       "<Figure size 432x288 with 1 Axes>"
      ]
     },
     "metadata": {},
     "output_type": "display_data"
    }
   ],
   "source": [
    "import networkx as nx\n",
    "import matplotlib.pyplot as plt\n",
    "\n",
    "G = nx.DiGraph()\n",
    "\n",
    "\n",
    "G.add_node(screen_name, is_friend = True)\n",
    "\n",
    "node_colour = []\n",
    "for friend in final['friends']:\n",
    "    G.add_node(friend, is_friend = True)\n",
    "    G.add_edge(screen_name, friend)\n",
    "\n",
    "\n",
    "for i in final['botornot']:\n",
    "    if i == 'BOT':\n",
    "        node_colour.append('r')\n",
    "    else:\n",
    "        node_colour.append('b')\n",
    "    \n",
    "nx.draw(G, with_labels=True,node_size= 500, node_color = node_colour)\n",
    "plt.show()"
   ]
  },
  {
   "cell_type": "code",
   "execution_count": null,
   "metadata": {},
   "outputs": [],
   "source": []
  }
 ],
 "metadata": {
  "kernelspec": {
   "display_name": "Python 3",
   "language": "python",
   "name": "python3"
  },
  "language_info": {
   "codemirror_mode": {
    "name": "ipython",
    "version": 3
   },
   "file_extension": ".py",
   "mimetype": "text/x-python",
   "name": "python",
   "nbconvert_exporter": "python",
   "pygments_lexer": "ipython3",
   "version": "3.8.3"
  }
 },
 "nbformat": 4,
 "nbformat_minor": 4
}
